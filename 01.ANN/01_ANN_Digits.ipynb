{
 "cells": [
  {
   "cell_type": "code",
   "execution_count": 1,
   "id": "42c2c348",
   "metadata": {},
   "outputs": [],
   "source": [
    "# Basic Libraries\n",
    "import pandas as pd\n",
    "import numpy as np\n",
    "\n",
    "# Visualization Libraries\n",
    "import matplotlib.pyplot as plt\n",
    "import pydot\n",
    "import seaborn as sns\n",
    "\n",
    "#Evaluation Libraries\n",
    "from sklearn.metrics import confusion_matrix\n",
    "from sklearn.metrics import accuracy_score\n",
    "from sklearn.metrics import classification_report\n",
    "from sklearn.model_selection import GridSearchCV"
   ]
  },
  {
   "cell_type": "code",
   "execution_count": 3,
   "id": "fef4686b-3a9c-4916-b5df-e3da4db47b53",
   "metadata": {},
   "outputs": [
    {
     "name": "stdout",
     "output_type": "stream",
     "text": [
      "WARNING:tensorflow:From C:\\Anaconda\\envs\\Deep_Learning\\lib\\site-packages\\keras\\src\\losses.py:2976: The name tf.losses.sparse_softmax_cross_entropy is deprecated. Please use tf.compat.v1.losses.sparse_softmax_cross_entropy instead.\n",
      "\n"
     ]
    }
   ],
   "source": [
    "# Deep Learning Libraries\n",
    "import tensorflow as tf\n",
    "\n",
    "from tensorflow import keras\n",
    "from tensorflow.keras import layers\n",
    "from tensorflow.keras.layers import Dense, Activation, Dropout\n",
    "from tensorflow.keras.datasets import mnist\n",
    "from tensorflow.keras.models import Sequential\n",
    "from tensorflow.keras.utils import to_categorical\n",
    "#from scikeras.wrappers import KerasClassifier  # Use this instead of legacy keras.wrappers"
   ]
  },
  {
   "cell_type": "markdown",
   "id": "4a278c27-e0e4-4c45-9ea2-f5de51d5b3c7",
   "metadata": {},
   "source": [
    "## Steps in Deep Learning - ANN :\n",
    "### 01.Compiler\n",
    "### 02.Model Creation\n",
    "### 03.Fit Method"
   ]
  },
  {
   "cell_type": "code",
   "execution_count": 5,
   "id": "8148ef9c",
   "metadata": {},
   "outputs": [],
   "source": [
    "# Digit MNIST Dataset. (Input Columns Exists as Unflattened (28x28))\n",
    "(X_Train, Y_Train), (X_Test, Y_Test) = mnist.load_data()"
   ]
  },
  {
   "cell_type": "code",
   "execution_count": 7,
   "id": "482177bb-7ecd-469e-a00f-761a602d93e3",
   "metadata": {},
   "outputs": [
    {
     "name": "stdout",
     "output_type": "stream",
     "text": [
      "Number of Rows and Columns of X_Train (Before Reshaped):(60000, 28, 28)\n",
      "Number of Rows and Columns of Y_Train (Before Reshaped):(60000,)\n",
      "Number of Rows and Columns of X_Test (Before Reshaped):(10000, 28, 28)\n",
      "Number of Rows and Columns of Y_Test (Before Reshaped):(10000,)\n"
     ]
    }
   ],
   "source": [
    "print(f\"Number of Rows and Columns of X_Train (Before Reshaped):{X_Train.shape}\")\n",
    "print(f\"Number of Rows and Columns of Y_Train (Before Reshaped):{Y_Train.shape}\")\n",
    "print(f\"Number of Rows and Columns of X_Test (Before Reshaped):{X_Test.shape}\")\n",
    "print(f\"Number of Rows and Columns of Y_Test (Before Reshaped):{Y_Test.shape}\")"
   ]
  },
  {
   "cell_type": "code",
   "execution_count": 9,
   "id": "69c579a1-d8a4-4d44-8a4a-77f0d348ba82",
   "metadata": {},
   "outputs": [
    {
     "data": {
      "text/plain": [
       "array([[  0,   0,   0,   0,   0,   0,   0,   0,   0,   0,   0,   0,   0,\n",
       "          0,   0,   0,   0,   0,   0,   0,   0,   0,   0,   0,   0,   0,\n",
       "          0,   0],\n",
       "       [  0,   0,   0,   0,   0,   0,   0,   0,   0,   0,   0,   0,   0,\n",
       "          0,   0,   0,   0,   0,   0,   0,   0,   0,   0,   0,   0,   0,\n",
       "          0,   0],\n",
       "       [  0,   0,   0,   0,   0,   0,   0,   0,   0,   0,   0,   0,   0,\n",
       "          0,   0,   0,   0,   0,   0,   0,   0,   0,   0,   0,   0,   0,\n",
       "          0,   0],\n",
       "       [  0,   0,   0,   0,   0,   0,   0,   0,   0,   0,   0,   0,   0,\n",
       "          0,   0,   0,   0,   0,   0,   0,   0,   0,   0,   0,   0,   0,\n",
       "          0,   0],\n",
       "       [  0,   0,   0,   0,   0,   0,   0,   0,   0,   0,   0,   0,   0,\n",
       "          0,   0,   0,   0,   0,   0,   0,   0,   0,   0,   0,   0,   0,\n",
       "          0,   0],\n",
       "       [  0,   0,   0,   0,   0,   0,   0,   0,   0,   0,   0,   0,   3,\n",
       "         18,  18,  18, 126, 136, 175,  26, 166, 255, 247, 127,   0,   0,\n",
       "          0,   0],\n",
       "       [  0,   0,   0,   0,   0,   0,   0,   0,  30,  36,  94, 154, 170,\n",
       "        253, 253, 253, 253, 253, 225, 172, 253, 242, 195,  64,   0,   0,\n",
       "          0,   0],\n",
       "       [  0,   0,   0,   0,   0,   0,   0,  49, 238, 253, 253, 253, 253,\n",
       "        253, 253, 253, 253, 251,  93,  82,  82,  56,  39,   0,   0,   0,\n",
       "          0,   0],\n",
       "       [  0,   0,   0,   0,   0,   0,   0,  18, 219, 253, 253, 253, 253,\n",
       "        253, 198, 182, 247, 241,   0,   0,   0,   0,   0,   0,   0,   0,\n",
       "          0,   0],\n",
       "       [  0,   0,   0,   0,   0,   0,   0,   0,  80, 156, 107, 253, 253,\n",
       "        205,  11,   0,  43, 154,   0,   0,   0,   0,   0,   0,   0,   0,\n",
       "          0,   0],\n",
       "       [  0,   0,   0,   0,   0,   0,   0,   0,   0,  14,   1, 154, 253,\n",
       "         90,   0,   0,   0,   0,   0,   0,   0,   0,   0,   0,   0,   0,\n",
       "          0,   0],\n",
       "       [  0,   0,   0,   0,   0,   0,   0,   0,   0,   0,   0, 139, 253,\n",
       "        190,   2,   0,   0,   0,   0,   0,   0,   0,   0,   0,   0,   0,\n",
       "          0,   0],\n",
       "       [  0,   0,   0,   0,   0,   0,   0,   0,   0,   0,   0,  11, 190,\n",
       "        253,  70,   0,   0,   0,   0,   0,   0,   0,   0,   0,   0,   0,\n",
       "          0,   0],\n",
       "       [  0,   0,   0,   0,   0,   0,   0,   0,   0,   0,   0,   0,  35,\n",
       "        241, 225, 160, 108,   1,   0,   0,   0,   0,   0,   0,   0,   0,\n",
       "          0,   0],\n",
       "       [  0,   0,   0,   0,   0,   0,   0,   0,   0,   0,   0,   0,   0,\n",
       "         81, 240, 253, 253, 119,  25,   0,   0,   0,   0,   0,   0,   0,\n",
       "          0,   0],\n",
       "       [  0,   0,   0,   0,   0,   0,   0,   0,   0,   0,   0,   0,   0,\n",
       "          0,  45, 186, 253, 253, 150,  27,   0,   0,   0,   0,   0,   0,\n",
       "          0,   0],\n",
       "       [  0,   0,   0,   0,   0,   0,   0,   0,   0,   0,   0,   0,   0,\n",
       "          0,   0,  16,  93, 252, 253, 187,   0,   0,   0,   0,   0,   0,\n",
       "          0,   0],\n",
       "       [  0,   0,   0,   0,   0,   0,   0,   0,   0,   0,   0,   0,   0,\n",
       "          0,   0,   0,   0, 249, 253, 249,  64,   0,   0,   0,   0,   0,\n",
       "          0,   0],\n",
       "       [  0,   0,   0,   0,   0,   0,   0,   0,   0,   0,   0,   0,   0,\n",
       "          0,  46, 130, 183, 253, 253, 207,   2,   0,   0,   0,   0,   0,\n",
       "          0,   0],\n",
       "       [  0,   0,   0,   0,   0,   0,   0,   0,   0,   0,   0,   0,  39,\n",
       "        148, 229, 253, 253, 253, 250, 182,   0,   0,   0,   0,   0,   0,\n",
       "          0,   0],\n",
       "       [  0,   0,   0,   0,   0,   0,   0,   0,   0,   0,  24, 114, 221,\n",
       "        253, 253, 253, 253, 201,  78,   0,   0,   0,   0,   0,   0,   0,\n",
       "          0,   0],\n",
       "       [  0,   0,   0,   0,   0,   0,   0,   0,  23,  66, 213, 253, 253,\n",
       "        253, 253, 198,  81,   2,   0,   0,   0,   0,   0,   0,   0,   0,\n",
       "          0,   0],\n",
       "       [  0,   0,   0,   0,   0,   0,  18, 171, 219, 253, 253, 253, 253,\n",
       "        195,  80,   9,   0,   0,   0,   0,   0,   0,   0,   0,   0,   0,\n",
       "          0,   0],\n",
       "       [  0,   0,   0,   0,  55, 172, 226, 253, 253, 253, 253, 244, 133,\n",
       "         11,   0,   0,   0,   0,   0,   0,   0,   0,   0,   0,   0,   0,\n",
       "          0,   0],\n",
       "       [  0,   0,   0,   0, 136, 253, 253, 253, 212, 135, 132,  16,   0,\n",
       "          0,   0,   0,   0,   0,   0,   0,   0,   0,   0,   0,   0,   0,\n",
       "          0,   0],\n",
       "       [  0,   0,   0,   0,   0,   0,   0,   0,   0,   0,   0,   0,   0,\n",
       "          0,   0,   0,   0,   0,   0,   0,   0,   0,   0,   0,   0,   0,\n",
       "          0,   0],\n",
       "       [  0,   0,   0,   0,   0,   0,   0,   0,   0,   0,   0,   0,   0,\n",
       "          0,   0,   0,   0,   0,   0,   0,   0,   0,   0,   0,   0,   0,\n",
       "          0,   0],\n",
       "       [  0,   0,   0,   0,   0,   0,   0,   0,   0,   0,   0,   0,   0,\n",
       "          0,   0,   0,   0,   0,   0,   0,   0,   0,   0,   0,   0,   0,\n",
       "          0,   0]], dtype=uint8)"
      ]
     },
     "execution_count": 9,
     "metadata": {},
     "output_type": "execute_result"
    }
   ],
   "source": [
    "# It Shows Very First Array Set (28x28) of 6000 Rows With Gray Scale Color Codes which would be Visible as an Image Through\n",
    "# plt.imshow(X_train_digit[Each_Number], cmap='gray')\n",
    "X_Train[0]"
   ]
  },
  {
   "cell_type": "code",
   "execution_count": 11,
   "id": "eab5365e-cae1-42c4-b074-9eb6bc22933c",
   "metadata": {},
   "outputs": [
    {
     "data": {
      "image/png": "[encoded data removed]",
      "text/plain": [
       "<Figure size 100x100 with 1 Axes>"
      ]
     },
     "metadata": {},
     "output_type": "display_data"
    }
   ],
   "source": [
    "# It Shows Very First Array Set (28x28) of 6000 Rows With Gray Scale Color Codes which would be Visible as an Image Through\n",
    "# plt.imshow(X_train_digit[Each_Number], cmap='gray')\n",
    "# X_Train[0]\n",
    "\n",
    "# Full Digit array pasted manually for visualization\n",
    "digit_array_full = np.array([\n",
    "[  0,   0,   0,   0,   0,   0,   0,   0,   0,   0,   0,   0,   0,   0,   0,   0,   0,   0,   0,   0,   0,   0,   0,   0,   0,   0,   0,   0],\n",
    "[  0,   0,   0,   0,   0,   0,   0,   0,   0,   0,   0,   0,   0,   0,   0,   0,   0,   0,   0,   0,   0,   0,   0,   0,   0,   0,   0,   0],\n",
    "[  0,   0,   0,   0,   0,   0,   0,   0,   0,   0,   0,   0,   0,   0,   0,   0,   0,   0,   0,   0,   0,   0,   0,   0,   0,   0,   0,   0],\n",
    "[  0,   0,   0,   0,   0,   0,   0,   0,   0,   0,   0,   0,   0,   0,   0,   0,   0,   0,   0,   0,   0,   0,   0,   0,   0,   0,   0,   0],\n",
    "[  0,   0,   0,   0,   0,   0,   0,   0,   0,   0,   0,   0,   0,   0,   0,   0,   0,   0,   0,   0,   0,   0,   0,   0,   0,   0,   0,   0],\n",
    "[  0,   0,   0,   0,   0,   0,   0,   0,   0,   0,   0,   0,   3,  18,  18,  18, 126, 136, 175,  26, 166, 255, 247, 127,   0,   0,   0,   0],\n",
    "[  0,   0,   0,   0,   0,   0,   0,   0,  30,  36,  94, 154, 170, 253, 253, 253, 253, 253, 225, 172, 253, 242, 195,  64,   0,   0,   0,   0],\n",
    "[  0,   0,   0,   0,   0,   0,   0,  49, 238, 253, 253, 253, 253, 253, 253, 253, 253, 251,  93,  82,  82,  56,  39,   0,   0,   0,   0,   0],\n",
    "[  0,   0,   0,   0,   0,   0,   0,  18, 219, 253, 253, 253, 253, 253, 198, 182, 247, 241,   0,   0,   0,   0,   0,   0,   0,   0,   0,   0],\n",
    "[  0,   0,   0,   0,   0,   0,   0,   0,  80, 156, 107, 253, 253, 205,  11,   0,  43, 154,   0,   0,   0,   0,   0,   0,   0,   0,   0,   0],\n",
    "[  0,   0,   0,   0,   0,   0,   0,   0,   0,  14,   1, 154, 253,  90,   0,   0,   0,   0,   0,   0,   0,   0,   0,   0,   0,   0,   0,   0],\n",
    "[  0,   0,   0,   0,   0,   0,   0,   0,   0,   0,   0, 139, 253, 190,   2,   0,   0,   0,   0,   0,   0,   0,   0,   0,   0,   0,   0,   0],\n",
    "[  0,   0,   0,   0,   0,   0,   0,   0,   0,   0,   0,  11, 190, 253,  70,   0,   0,   0,   0,   0,   0,   0,   0,   0,   0,   0,   0,   0],\n",
    "[  0,   0,   0,   0,   0,   0,   0,   0,   0,   0,   0,   0,  35, 241, 225, 160, 108,   1,   0,   0,   0,   0,   0,   0,   0,   0,   0,   0],\n",
    "[  0,   0,   0,   0,   0,   0,   0,   0,   0,   0,   0,   0,   0,  81, 240, 253, 253, 119,  25,   0,   0,   0,   0,   0,   0,   0,   0,   0],\n",
    "[  0,   0,   0,   0,   0,   0,   0,   0,   0,   0,   0,   0,   0,   0,  45, 186, 253, 253, 150,  27,   0,   0,   0,   0,   0,   0,   0,   0],\n",
    "[  0,   0,   0,   0,   0,   0,   0,   0,   0,   0,   0,   0,   0,   0,   0,  16,  93, 252, 253, 187,   0,   0,   0,   0,   0,   0,   0,   0],\n",
    "[  0,   0,   0,   0,   0,   0,   0,   0,   0,   0,   0,   0,   0,   0,   0,   0,   0, 249, 253, 249,  64,   0,   0,   0,   0,   0,   0,   0],\n",
    "[  0,   0,   0,   0,   0,   0,   0,   0,   0,   0,   0,   0,   0,   0,  46, 130, 183, 253, 253, 207,   2,   0,   0,   0,   0,   0,   0,   0],\n",
    "[  0,   0,   0,   0,   0,   0,   0,   0,   0,   0,   0,   0,  39, 148, 229, 253, 253, 253, 250, 182,   0,   0,   0,   0,   0,   0,   0,   0],\n",
    "[  0,   0,   0,   0,   0,   0,   0,   0,   0,   0,  24, 114, 221, 253, 253, 253, 253, 201,  78,   0,   0,   0,   0,   0,   0,   0,   0,   0],\n",
    "[  0,   0,   0,   0,   0,   0,   0,   0,  23,  66, 213, 253, 253, 253, 253, 198,  81,   2,   0,   0,   0,   0,   0,   0,   0,   0,   0,   0],\n",
    "[  0,   0,   0,   0,   0,   0,  18, 171, 219, 253, 253, 253, 253, 195,  80,   9,   0,   0,   0,   0,   0,   0,   0,   0,   0,   0,   0,   0],\n",
    "[  0,   0,   0,   0,  55, 172, 226, 253, 253, 253, 253, 244, 133,  11,   0,   0,   0,   0,   0,   0,   0,   0,   0,   0,   0,   0,   0,   0],\n",
    "[  0,   0,   0,   0, 136, 253, 253, 253, 212, 135, 132,  16,   0,   0,   0,   0,   0,   0,   0,   0,   0,   0,   0,   0,   0,   0,   0,   0],\n",
    "[  0,   0,   0,   0,   0,   0,   0,   0,   0,   0,   0,   0,   0,   0,   0,   0,   0,   0,   0,   0,   0,   0,   0,   0,   0,   0,   0,   0],\n",
    "[  0,   0,   0,   0,   0,   0,   0,   0,   0,   0,   0,   0,   0,   0,   0,   0,   0,   0,   0,   0,   0,   0,   0,   0,   0,   0,   0,   0],\n",
    "[  0,   0,   0,   0,   0,   0,   0,   0,   0,   0,   0,   0,   0,   0,   0,   0,   0,   0,   0,   0,   0,   0,   0,   0,   0,   0,   0,   0]\n",
    "], dtype=np.uint8)\n",
    "\n",
    "# Plot the image\n",
    "# Visualizing the digits\n",
    "plt.figure(figsize=(1,1))\n",
    "plt.imshow(digit_array_full, cmap='gray')\n",
    "plt.xticks([])\n",
    "plt.yticks([])\n",
    "plt.title(\"Visualized MNIST Digit\")\n",
    "plt.show()"
   ]
  },
  {
   "cell_type": "code",
   "execution_count": 13,
   "id": "d0d392a0",
   "metadata": {},
   "outputs": [
    {
     "data": {
      "text/plain": [
       "array([5, 0, 4, ..., 5, 6, 8], dtype=uint8)"
      ]
     },
     "execution_count": 13,
     "metadata": {},
     "output_type": "execute_result"
    }
   ],
   "source": [
    "Y_Train"
   ]
  },
  {
   "cell_type": "code",
   "execution_count": 15,
   "id": "e52b3893-4cdc-4ae6-9963-287be15bba99",
   "metadata": {},
   "outputs": [
    {
     "data": {
      "text/plain": [
       "5"
      ]
     },
     "execution_count": 15,
     "metadata": {},
     "output_type": "execute_result"
    }
   ],
   "source": [
    "# It Shows Very First Integer From (1x1 Array) of 6000 Rows\n",
    "Y_Train[0]"
   ]
  },
  {
   "cell_type": "code",
   "execution_count": 17,
   "id": "937f1b94",
   "metadata": {},
   "outputs": [
    {
     "data": {
      "image/png": "[encoded data removed]",
      "text/plain": [
       "<Figure size 300x300 with 15 Axes>"
      ]
     },
     "metadata": {},
     "output_type": "display_data"
    }
   ],
   "source": [
    "# Names of Numbers in the Dataset in Order\n",
    "Column_Names = ['Zero','One','Two','Three','Four','Five','Six','Seven','Eight','Nine']\n",
    "\n",
    "# Visualizing the Digits\n",
    "plt.figure(figsize=(3,3))\n",
    "\n",
    "for Each_Number in range(15):\n",
    "    plt.subplot(3, 5, Each_Number + 1)\n",
    "    plt.xticks([])\n",
    "    plt.yticks([])\n",
    "    plt.imshow(X_Train[Each_Number], cmap='gray')\n",
    "    plt.xlabel(Column_Names[Y_Train[Each_Number]])\n",
    "\n",
    "plt.show()"
   ]
  },
  {
   "cell_type": "code",
   "execution_count": 19,
   "id": "0070c003",
   "metadata": {},
   "outputs": [
    {
     "name": "stdout",
     "output_type": "stream",
     "text": [
      "Number of Rows and Columns of X_Train_Flattened_To_One_Dimension (After Reshaped) :(60000, 784)\n",
      "Number of Rows and Columns of X_Test_Flattened_To_One_Dimension (After Reshaped) :(10000, 784)\n"
     ]
    }
   ],
   "source": [
    "# Flattening the Rows and Columns (From 3D TO 2D), Since ANN Accepts Only 2 Dimensional Inputs \n",
    "X_Train_Flattened_To_One_Dimension = X_Train.reshape(60000, 784)\n",
    "print(f\"Number of Rows and Columns of X_Train_Flattened_To_One_Dimension (After Reshaped) :{X_Train_Flattened_To_One_Dimension.shape}\")\n",
    "\n",
    "X_Test_Flattened_To_One_Dimension = X_Test.reshape(10000, 784)\n",
    "print(f\"Number of Rows and Columns of X_Test_Flattened_To_One_Dimension (After Reshaped) :{X_Test_Flattened_To_One_Dimension.shape}\")"
   ]
  },
  {
   "cell_type": "code",
   "execution_count": 21,
   "id": "b32df37f-de38-41e9-a143-ca58904ccba0",
   "metadata": {},
   "outputs": [
    {
     "name": "stdout",
     "output_type": "stream",
     "text": [
      "Number of Rows and Columns of Y_Train_One_Hot_Encoded :(60000, 10)\n",
      "Number of Rows and Columns of Y_Test_One_Hot_Encoded :(10000, 10)\n"
     ]
    }
   ],
   "source": [
    "# One Hot Encoding the Digit MNIST Labels. Here, num_classes=10 Refers to the Digits From 0 To 9\n",
    "# Similarly Output should always be in One Hot Encoding Format for ANN\n",
    "\n",
    "Y_Train_One_Hot_Encoded = to_categorical(Y_Train, num_classes=10)\n",
    "print(f\"Number of Rows and Columns of Y_Train_One_Hot_Encoded :{Y_Train_One_Hot_Encoded.shape}\")\n",
    "\n",
    "Y_Test_One_Hot_Encoded = to_categorical(Y_Test, num_classes=10)\n",
    "print(f\"Number of Rows and Columns of Y_Test_One_Hot_Encoded :{Y_Test_One_Hot_Encoded.shape}\")"
   ]
  },
  {
   "cell_type": "code",
   "execution_count": 23,
   "id": "284cf049-80cb-4c95-ae72-f3a3be808e90",
   "metadata": {},
   "outputs": [
    {
     "data": {
      "text/plain": [
       "0"
      ]
     },
     "execution_count": 23,
     "metadata": {},
     "output_type": "execute_result"
    }
   ],
   "source": [
    "# Verifying the Sample Output of Y_Train (Y_Train Should be Same With Sample Output of Y_Train_One_Hot_Encoded) \n",
    "Y_Train[1]"
   ]
  },
  {
   "cell_type": "code",
   "execution_count": 25,
   "id": "a0f40a04-3c93-4f4d-8a39-bf55a0b538ba",
   "metadata": {},
   "outputs": [
    {
     "data": {
      "text/plain": [
       "array([1., 0., 0., 0., 0., 0., 0., 0., 0., 0.], dtype=float32)"
      ]
     },
     "execution_count": 25,
     "metadata": {},
     "output_type": "execute_result"
    }
   ],
   "source": [
    "# Verifying the Sample Output of Y_Train_One_Hot_Encoded (Y_Train_One_Hot_Encoded Should be Same With Sample Output of Y_Train)\n",
    "Y_Train_One_Hot_Encoded[1]"
   ]
  },
  {
   "cell_type": "code",
   "execution_count": 27,
   "id": "d742c914",
   "metadata": {},
   "outputs": [
    {
     "name": "stdout",
     "output_type": "stream",
     "text": [
      "WARNING:tensorflow:From C:\\Anaconda\\envs\\Deep_Learning\\lib\\site-packages\\keras\\src\\backend.py:873: The name tf.get_default_graph is deprecated. Please use tf.compat.v1.get_default_graph instead.\n",
      "\n"
     ]
    }
   ],
   "source": [
    "#Creating Base Neural Network\n",
    "# 256 -> 128 -> 64 -> 10 are Nothing But Feed Forward and Again 10 -> 256 is Back Probagation\n",
    "# Sigmoid - Its a Logistic Function (0 TO 1)\n",
    "\n",
    "Input_Units = 784\n",
    "Dense_Output_01 = 256\n",
    "Dense_Output_02 = 128\n",
    "Dense_Output_03 = 64\n",
    "Output = 10 \n",
    "\n",
    "\n",
    "model = keras.Sequential([\n",
    "    layers.Dense(Dense_Output_01, activation='relu', input_shape=(Input_Units,)),\n",
    "    #layers.Dropout(0.3),\n",
    "    #layers.BatchNormalization(),\n",
    "    layers.Dense(Dense_Output_02, activation='relu'),\n",
    "    #layers.Dropout(0.3),\n",
    "    #layers.BatchNormalization(),\n",
    "    layers.Dense(Dense_Output_03, activation='relu'),\n",
    "    #layers.Dropout(0.3),\n",
    "    #layers.BatchNormalization(),\n",
    "    layers.Dense(Output,activation='sigmoid'),\n",
    "])"
   ]
  },
  {
   "cell_type": "code",
   "execution_count": 29,
   "id": "d1efa369",
   "metadata": {},
   "outputs": [
    {
     "name": "stdout",
     "output_type": "stream",
     "text": [
      "Model: \"sequential\"\n",
      "_________________________________________________________________\n",
      " Layer (type)                Output Shape              Param #   \n",
      "=================================================================\n",
      " dense (Dense)               (None, 256)               200960    \n",
      "                                                                 \n",
      " dense_1 (Dense)             (None, 128)               32896     \n",
      "                                                                 \n",
      " dense_2 (Dense)             (None, 64)                8256      \n",
      "                                                                 \n",
      " dense_3 (Dense)             (None, 10)                650       \n",
      "                                                                 \n",
      "=================================================================\n",
      "Total params: 242762 (948.29 KB)\n",
      "Trainable params: 242762 (948.29 KB)\n",
      "Non-trainable params: 0 (0.00 Byte)\n",
      "_________________________________________________________________\n"
     ]
    }
   ],
   "source": [
    "model.summary()"
   ]
  },
  {
   "cell_type": "code",
   "execution_count": 31,
   "id": "4c779c11-9893-42f1-9283-d466645b520a",
   "metadata": {},
   "outputs": [
    {
     "name": "stdout",
     "output_type": "stream",
     "text": [
      "Formula To Calculate the Parameters:\n",
      "\n",
      "Layer 1: dense\n",
      "(Input_Units (784) × Output_Units (256)) + Output_Units (256) = 200960 \n",
      "\n",
      "Layer 2: dense_1\n",
      "(Input_Units (256) × Output_Units (128)) + Output_Units (128) = 32896 \n",
      "\n",
      "Layer 3: dense_2\n",
      "(Input_Units (128) × Output_Units (64)) + Output_Units (64) = 8256 \n",
      "\n",
      "Layer 4: dense_3\n",
      "(Input_Units (64) × Output_Units (10)) + Output_Units (10) = 650 \n",
      "\n"
     ]
    }
   ],
   "source": [
    "# Initial Input size (Flattened 28x28 Image)\n",
    "Input_Units = 784  \n",
    "\n",
    "print(\"Formula To Calculate the Parameters:\\n\")\n",
    "\n",
    "for i, layer in enumerate(model.layers):\n",
    "    if hasattr(layer, 'units'):\n",
    "        Output_Units = layer.units\n",
    "        \n",
    "        Parameters = (Input_Units * Output_Units) + Output_Units\n",
    "       \n",
    "        print(f\"Layer {i+1}: {layer.name}\")\n",
    "        print(f\"(Input_Units ({Input_Units}) × Output_Units ({Output_Units})) + Output_Units ({Output_Units}) = {Parameters} \\n\")\n",
    "        \n",
    "        # Set input for next layer\n",
    "        Input_Units = Output_Units"
   ]
  },
  {
   "cell_type": "code",
   "execution_count": 33,
   "id": "88b0f383",
   "metadata": {},
   "outputs": [
    {
     "name": "stdout",
     "output_type": "stream",
     "text": [
      "WARNING:tensorflow:From C:\\Anaconda\\envs\\Deep_Learning\\lib\\site-packages\\keras\\src\\optimizers\\__init__.py:309: The name tf.train.Optimizer is deprecated. Please use tf.compat.v1.train.Optimizer instead.\n",
      "\n"
     ]
    }
   ],
   "source": [
    "# Compiling the model\n",
    "model.compile(loss=\"categorical_crossentropy\", optimizer=\"adam\", metrics = ['accuracy'])"
   ]
  },
  {
   "cell_type": "code",
   "execution_count": 35,
   "id": "1121731a",
   "metadata": {},
   "outputs": [
    {
     "name": "stdout",
     "output_type": "stream",
     "text": [
      "Epoch 1/10\n",
      "WARNING:tensorflow:From C:\\Anaconda\\envs\\Deep_Learning\\lib\\site-packages\\keras\\src\\utils\\tf_utils.py:492: The name tf.ragged.RaggedTensorValue is deprecated. Please use tf.compat.v1.ragged.RaggedTensorValue instead.\n",
      "\n",
      "WARNING:tensorflow:From C:\\Anaconda\\envs\\Deep_Learning\\lib\\site-packages\\keras\\src\\engine\\base_layer_utils.py:384: The name tf.executing_eagerly_outside_functions is deprecated. Please use tf.compat.v1.executing_eagerly_outside_functions instead.\n",
      "\n",
      "600/600 [==============================] - 8s 10ms/step - loss: 1.3004 - accuracy: 0.8702 - val_loss: 0.3040 - val_accuracy: 0.9257\n",
      "Epoch 2/10\n",
      "600/600 [==============================] - 5s 8ms/step - loss: 0.2066 - accuracy: 0.9438 - val_loss: 0.1966 - val_accuracy: 0.9484\n",
      "Epoch 3/10\n",
      "600/600 [==============================] - 5s 9ms/step - loss: 0.1343 - accuracy: 0.9610 - val_loss: 0.1863 - val_accuracy: 0.9530\n",
      "Epoch 4/10\n",
      "600/600 [==============================] - 5s 8ms/step - loss: 0.1086 - accuracy: 0.9685 - val_loss: 0.1957 - val_accuracy: 0.9508\n",
      "Epoch 5/10\n",
      "600/600 [==============================] - 5s 9ms/step - loss: 0.0995 - accuracy: 0.9700 - val_loss: 0.1466 - val_accuracy: 0.9608\n",
      "Epoch 6/10\n",
      "600/600 [==============================] - 5s 9ms/step - loss: 0.0866 - accuracy: 0.9737 - val_loss: 0.1530 - val_accuracy: 0.9614\n",
      "Epoch 7/10\n",
      "600/600 [==============================] - 5s 9ms/step - loss: 0.0863 - accuracy: 0.9744 - val_loss: 0.1999 - val_accuracy: 0.9529\n",
      "Epoch 8/10\n",
      "600/600 [==============================] - 5s 9ms/step - loss: 0.0759 - accuracy: 0.9777 - val_loss: 0.1337 - val_accuracy: 0.9655\n",
      "Epoch 9/10\n",
      "600/600 [==============================] - 5s 8ms/step - loss: 0.0673 - accuracy: 0.9801 - val_loss: 0.1710 - val_accuracy: 0.9594\n",
      "Epoch 10/10\n",
      "600/600 [==============================] - 5s 8ms/step - loss: 0.0681 - accuracy: 0.9797 - val_loss: 0.1769 - val_accuracy: 0.9588\n"
     ]
    }
   ],
   "source": [
    "Fitted_Model = model.fit(X_Train_Flattened_To_One_Dimension, Y_Train_One_Hot_Encoded, batch_size=100, epochs=10,\n",
    "                         validation_data=(X_Test_Flattened_To_One_Dimension, Y_Test_One_Hot_Encoded))"
   ]
  },
  {
   "cell_type": "code",
   "execution_count": 37,
   "id": "db2866b4",
   "metadata": {},
   "outputs": [
    {
     "name": "stdout",
     "output_type": "stream",
     "text": [
      "313/313 [==============================] - 1s 4ms/step\n"
     ]
    }
   ],
   "source": [
    "# Predicting the labels - DIGIT\n",
    "Y_Predicted = model.predict(X_Test_Flattened_To_One_Dimension)"
   ]
  },
  {
   "cell_type": "code",
   "execution_count": 39,
   "id": "02f2f30d-54aa-4194-a6f7-4b4a35459cc2",
   "metadata": {},
   "outputs": [
    {
     "data": {
      "text/plain": [
       "array([0.21428604, 0.9998522 , 0.99964654, 0.9982126 , 0.00166536,\n",
       "       0.48735046, 0.00190981, 1.        , 0.08410972, 0.94768834],\n",
       "      dtype=float32)"
      ]
     },
     "execution_count": 39,
     "metadata": {},
     "output_type": "execute_result"
    }
   ],
   "source": [
    "Y_Predicted[0]"
   ]
  },
  {
   "cell_type": "code",
   "execution_count": 41,
   "id": "a9b7d58f",
   "metadata": {},
   "outputs": [
    {
     "data": {
      "text/plain": [
       "array([7, 2, 1, ..., 1, 5, 0], dtype=int64)"
      ]
     },
     "execution_count": 41,
     "metadata": {},
     "output_type": "execute_result"
    }
   ],
   "source": [
    "# Here We Get the Index of Maximum Value in the Encoded Vector for y_predict\n",
    "Y_Predicted_Max = np.argmax(Y_Predicted, axis=1) \n",
    "Y_Predicted_Max"
   ]
  },
  {
   "cell_type": "code",
   "execution_count": 43,
   "id": "7c3bfd92",
   "metadata": {},
   "outputs": [
    {
     "data": {
      "text/plain": [
       "array([7, 2, 1, ..., 4, 5, 6], dtype=int64)"
      ]
     },
     "execution_count": 43,
     "metadata": {},
     "output_type": "execute_result"
    }
   ],
   "source": [
    "# Here We Get the Index of Maximum Value in the Encoded Vector for y_test_digit\n",
    "Y_Test_One_Hot_Encoded_Max = np.argmax(Y_Test_One_Hot_Encoded, axis=1)\n",
    "Y_Test_One_Hot_Encoded_Max"
   ]
  },
  {
   "cell_type": "code",
   "execution_count": 45,
   "id": "c837dfa0-27f3-471d-9d0c-0cbee29cc551",
   "metadata": {},
   "outputs": [
    {
     "data": {
      "image/png": "[encoded data removed]",
      "text/plain": [
       "<Figure size 500x500 with 2 Axes>"
      ]
     },
     "metadata": {},
     "output_type": "display_data"
    }
   ],
   "source": [
    "# Confusion Matrix for Digit MNIST\n",
    "from sklearn.metrics import confusion_matrix\n",
    "import matplotlib.pyplot as plt\n",
    "import seaborn as sns\n",
    "\n",
    "# Generate the confusion matrix\n",
    "Confusion_Matrix = confusion_matrix(Y_Test_One_Hot_Encoded_Max, Y_Predicted_Max)\n",
    "\n",
    "# Plot the confusion matrix heatmap\n",
    "plt.figure(figsize=(5, 5))\n",
    "sns.heatmap(Confusion_Matrix, annot=True, annot_kws={'size': 10}, linewidths=0.5, fmt=\"d\", cmap=\"gray\")\n",
    "\n",
    "plt.title('True or False Predicted Digit MNIST\\n', fontweight='bold', fontsize=10)\n",
    "plt.xlabel('Predicted Label (Y_Predicted_Max)')\n",
    "plt.ylabel('True Label (Y_Test_One_Hot_Encoded_Max)')\n",
    "plt.show()"
   ]
  },
  {
   "cell_type": "code",
   "execution_count": 47,
   "id": "0241e275",
   "metadata": {},
   "outputs": [
    {
     "name": "stdout",
     "output_type": "stream",
     "text": [
      "              precision    recall  f1-score   support\n",
      "\n",
      "           0       0.66      0.99      0.79       980\n",
      "           1       0.78      0.97      0.87      1135\n",
      "           2       0.77      0.88      0.82      1032\n",
      "           3       0.78      0.89      0.83      1010\n",
      "           4       0.73      0.63      0.68       982\n",
      "           5       0.70      0.99      0.82       892\n",
      "           6       0.96      0.16      0.27       958\n",
      "           7       0.97      0.86      0.91      1028\n",
      "           8       0.94      0.65      0.77       974\n",
      "           9       0.94      0.86      0.90      1009\n",
      "\n",
      "    accuracy                           0.79     10000\n",
      "   macro avg       0.82      0.79      0.77     10000\n",
      "weighted avg       0.82      0.79      0.77     10000\n",
      "\n"
     ]
    }
   ],
   "source": [
    "from sklearn.metrics import classification_report\n",
    "print(classification_report(Y_Test_One_Hot_Encoded_Max, Y_Predicted_Max))"
   ]
  },
  {
   "cell_type": "code",
   "execution_count": 49,
   "id": "baaaaafb-8372-4efb-bc97-4ce1589588b6",
   "metadata": {},
   "outputs": [
    {
     "name": "stdout",
     "output_type": "stream",
     "text": [
      "dict_keys(['loss', 'accuracy', 'val_loss', 'val_accuracy'])\n"
     ]
    }
   ],
   "source": [
    "print(Fitted_Model.history.keys())"
   ]
  },
  {
   "cell_type": "code",
   "execution_count": 51,
   "id": "fdd5ee2d",
   "metadata": {},
   "outputs": [
    {
     "data": {
      "image/png": "[encoded data removed]",
      "text/plain": [
       "<Figure size 640x480 with 1 Axes>"
      ]
     },
     "metadata": {},
     "output_type": "display_data"
    }
   ],
   "source": [
    "# summarize history for accuracy\n",
    "plt.plot(Fitted_Model.history['accuracy']) #Comes in Y-Axis\n",
    "plt.plot(Fitted_Model.history['val_accuracy']) #Comes in X-Axis\n",
    "plt.title('Model Accuracy')\n",
    "plt.ylabel('Accuracy')\n",
    "plt.xlabel('Epoch')\n",
    "plt.legend(['Train-Set', 'Test-Set'], loc='best')\n",
    "plt.show()"
   ]
  },
  {
   "cell_type": "code",
   "execution_count": 53,
   "id": "320ecf58",
   "metadata": {},
   "outputs": [
    {
     "data": {
      "image/png": "[encoded data removed]",
      "text/plain": [
       "<Figure size 640x480 with 1 Axes>"
      ]
     },
     "metadata": {},
     "output_type": "display_data"
    }
   ],
   "source": [
    "plt.plot(Fitted_Model.history['loss']) #Comes in Y-Axis\n",
    "plt.plot(Fitted_Model.history['val_loss']) #Comes in X-Axis\n",
    "plt.title('Model Loss')\n",
    "plt.ylabel('Loss')\n",
    "plt.xlabel('Epoch')\n",
    "plt.legend(['Train-Set', 'Test-Set'], loc='best')\n",
    "plt.show()"
   ]
  },
  {
   "cell_type": "code",
   "execution_count": 55,
   "id": "4050b116",
   "metadata": {},
   "outputs": [
    {
     "name": "stdout",
     "output_type": "stream",
     "text": [
      "1/1 [==============================] - 0s 72ms/step\n"
     ]
    }
   ],
   "source": [
    "Y_Predicted_Single = model.predict(X_Test_Flattened_To_One_Dimension[[0]])"
   ]
  },
  {
   "cell_type": "code",
   "execution_count": 57,
   "id": "ddad1da1-aaf7-430d-98f8-e6b1966564d1",
   "metadata": {},
   "outputs": [
    {
     "data": {
      "text/plain": [
       "array([7], dtype=int64)"
      ]
     },
     "execution_count": 57,
     "metadata": {},
     "output_type": "execute_result"
    }
   ],
   "source": [
    "# Here We Get the Index of Maximum Value in the Encoded Vector for y_predict_single\n",
    "Y_Predicted_Single_Max = np.argmax(Y_Predicted_Single, axis=1) \n",
    "Y_Predicted_Single_Max"
   ]
  },
  {
   "cell_type": "code",
   "execution_count": 59,
   "id": "f91b573e-5f72-4090-a0f8-fdc4bcf8e1f8",
   "metadata": {},
   "outputs": [
    {
     "data": {
      "text/plain": [
       "7"
      ]
     },
     "execution_count": 59,
     "metadata": {},
     "output_type": "execute_result"
    }
   ],
   "source": [
    "Y_Predicted_Single_Max[0]"
   ]
  },
  {
   "cell_type": "code",
   "execution_count": 61,
   "id": "3d841b0a-c259-4edb-bbe8-3e63a29af56a",
   "metadata": {},
   "outputs": [
    {
     "data": {
      "text/plain": [
       "array([7, 2, 1, ..., 4, 5, 6], dtype=int64)"
      ]
     },
     "execution_count": 61,
     "metadata": {},
     "output_type": "execute_result"
    }
   ],
   "source": [
    "Y_Test_One_Hot_Encoded_Max"
   ]
  },
  {
   "cell_type": "code",
   "execution_count": 63,
   "id": "927bec5f-7e1a-4cdd-a278-0ccbfda2c39a",
   "metadata": {},
   "outputs": [
    {
     "data": {
      "text/plain": [
       "7"
      ]
     },
     "execution_count": 63,
     "metadata": {},
     "output_type": "execute_result"
    }
   ],
   "source": [
    "Y_Test_One_Hot_Encoded_Max[0]"
   ]
  },
  {
   "cell_type": "code",
   "execution_count": 65,
   "id": "b390020a",
   "metadata": {},
   "outputs": [
    {
     "data": {
      "image/png": "[encoded data removed]",
      "text/plain": [
       "<Figure size 800x800 with 1 Axes>"
      ]
     },
     "metadata": {},
     "output_type": "display_data"
    }
   ],
   "source": [
    "Test_Data_Input = X_Test_Flattened_To_One_Dimension[0]\n",
    "Test_Data_Output = Y_Test_One_Hot_Encoded[0]\n",
    "Test_Data_Predicted_Max = Y_Predicted_Single_Max[0]  \n",
    "\n",
    "# Names of Numbers in the Dataset in Order\n",
    "Column_Names = ['Zero','One','Two','Three','Four','Five','Six','Seven','Eight','Nine']\n",
    "\n",
    "# Visualizing the Digits\n",
    "plt.figure(figsize=(8,8))\n",
    "plt.imshow(Test_Data_Input.reshape(28,28), cmap='gray')\n",
    "plt.xlabel(\"Actual Test Data ({}) and Predicted Test Data ({})\".format( Column_Names[np.argmax(Test_Data_Output)], \n",
    "                                                                               Column_Names[Test_Data_Predicted_Max]) )\n",
    "plt.show()"
   ]
  },
  {
   "cell_type": "code",
   "execution_count": null,
   "id": "03b48daa",
   "metadata": {},
   "outputs": [],
   "source": []
  }
 ],
 "metadata": {
  "kernelspec": {
   "display_name": "Python (Deep_Learning)",
   "language": "python",
   "name": "deep_learning"
  },
  "language_info": {
   "codemirror_mode": {
    "name": "ipython",
    "version": 3
   },
   "file_extension": ".py",
   "mimetype": "text/x-python",
   "name": "python",
   "nbconvert_exporter": "python",
   "pygments_lexer": "ipython3",
   "version": "3.10.18"
  }
 },
 "nbformat": 4,
 "nbformat_minor": 5
}
