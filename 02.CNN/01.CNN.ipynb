{
 "cells": [
  {
   "cell_type": "code",
   "execution_count": 1,
   "id": "42c2c348",
   "metadata": {},
   "outputs": [],
   "source": [
    "# Basic Libraries\n",
    "import pandas as pd\n",
    "import numpy as np\n",
    "\n",
    "# Visualization Libraries\n",
    "import matplotlib.pyplot as plt\n",
    "import pydot\n",
    "import seaborn as sns\n",
    "\n",
    "#Evaluation Libraries\n",
    "from sklearn.metrics import confusion_matrix\n",
    "from sklearn.metrics import accuracy_score\n",
    "from sklearn.metrics import classification_report\n",
    "from sklearn.model_selection import GridSearchCV"
   ]
  },
  {
   "cell_type": "code",
   "execution_count": 3,
   "id": "fef4686b-3a9c-4916-b5df-e3da4db47b53",
   "metadata": {},
   "outputs": [
    {
     "name": "stdout",
     "output_type": "stream",
     "text": [
      "WARNING:tensorflow:From C:\\Anaconda\\envs\\Deep_Learning\\lib\\site-packages\\keras\\src\\losses.py:2976: The name tf.losses.sparse_softmax_cross_entropy is deprecated. Please use tf.compat.v1.losses.sparse_softmax_cross_entropy instead.\n",
      "\n"
     ]
    }
   ],
   "source": [
    "# Deep Learning Libraries\n",
    "import tensorflow as tf\n",
    "\n",
    "from tensorflow import keras\n",
    "from tensorflow.keras import layers\n",
    "from tensorflow.keras.layers import Dense, Activation, Dropout, Conv2D, Flatten, MaxPooling2D\n",
    "from tensorflow.keras.datasets import mnist\n",
    "from tensorflow.keras.models import Sequential\n",
    "from tensorflow.keras.utils import to_categorical\n",
    "#from scikeras.wrappers import KerasClassifier  # Use this instead of legacy keras.wrappers"
   ]
  },
  {
   "cell_type": "code",
   "execution_count": 73,
   "id": "8148ef9c",
   "metadata": {},
   "outputs": [],
   "source": [
    "# Digit MNIST Dataset. (Input Columns Exists as Unflattened (28x28))\n",
    "(X_Train, Y_Train), (X_Test, Y_Test) = mnist.load_data()"
   ]
  },
  {
   "cell_type": "code",
   "execution_count": 75,
   "id": "482177bb-7ecd-469e-a00f-761a602d93e3",
   "metadata": {},
   "outputs": [
    {
     "name": "stdout",
     "output_type": "stream",
     "text": [
      "Number of Rows and Columns of X_Train (Before Reshaped):(60000, 28, 28)\n",
      "Number of Rows and Columns of Y_Train (Before Reshaped):(60000,) \n",
      "\n",
      "Number of Rows and Columns of X_Test (Before Reshaped):(10000, 28, 28)\n",
      "Number of Rows and Columns of Y_Test (Before Reshaped):(10000,)\n"
     ]
    }
   ],
   "source": [
    "print(f\"Number of Rows and Columns of X_Train (Before Reshaped):{X_Train.shape}\")\n",
    "print(f\"Number of Rows and Columns of Y_Train (Before Reshaped):{Y_Train.shape} \\n\")\n",
    "\n",
    "print(f\"Number of Rows and Columns of X_Test (Before Reshaped):{X_Test.shape}\")\n",
    "print(f\"Number of Rows and Columns of Y_Test (Before Reshaped):{Y_Test.shape}\")"
   ]
  },
  {
   "cell_type": "code",
   "execution_count": 77,
   "id": "0070c003",
   "metadata": {},
   "outputs": [
    {
     "name": "stdout",
     "output_type": "stream",
     "text": [
      "Number of Rows and Columns of X_Train_Two_Dimension_With_One_Layer (After Reshaped) :(60000, 28, 28, 1)\n",
      "Number of Rows and Columns of X_Test_Two_Dimension_With_One_Layer (After Reshaped) :(10000, 28, 28, 1)\n"
     ]
    }
   ],
   "source": [
    "# Flattening the Rows and Columns (From 3D TO 3D With One Layer), Since CNN Accepts Only 2 Dimensional Inputs With X No.Of Layers\n",
    "\n",
    "X_Train_Two_Dimension_With_One_Layer = X_Train.reshape(X_Train.shape[0], 28, 28, 1)\n",
    "print(f\"Number of Rows and Columns of X_Train_Two_Dimension_With_One_Layer (After Reshaped) :{X_Train_Two_Dimension_With_One_Layer.shape}\")\n",
    "\n",
    "X_Test_Two_Dimension_With_One_Layer = X_Test.reshape(X_Test.shape[0], 28, 28, 1)\n",
    "print(f\"Number of Rows and Columns of X_Test_Two_Dimension_With_One_Layer (After Reshaped) :{X_Test_Two_Dimension_With_One_Layer.shape}\")"
   ]
  },
  {
   "cell_type": "code",
   "execution_count": 79,
   "id": "30c5e89c-e5b8-4487-8ff8-4e0af87529ed",
   "metadata": {},
   "outputs": [],
   "source": [
    "# Defining Datatypes as Float for Input\n",
    "X_Train = X_Train_Two_Dimension_With_One_Layer.astype('float32')\n",
    "X_Test = X_Test_Two_Dimension_With_One_Layer.astype('float32')"
   ]
  },
  {
   "cell_type": "code",
   "execution_count": 81,
   "id": "3b96688c-68a9-478f-a7f0-97a6fc8d0037",
   "metadata": {},
   "outputs": [],
   "source": [
    "# Dividing (X_Train = X_Train / 255) and Storing Back to X_Train\n",
    "# 255 Refers to the Color Scale = 0 To 255 in RGB Channels\n",
    "\n",
    "X_Train /= 255\n",
    "X_Train /= 255"
   ]
  },
  {
   "cell_type": "code",
   "execution_count": 83,
   "id": "ab192076-225b-46a7-ae53-37806fc918a9",
   "metadata": {},
   "outputs": [],
   "source": [
    "from tensorflow.keras.models import Sequential\n",
    "from tensorflow.keras.layers import Dense, Conv2D, Dropout, Flatten, MaxPooling2D\n",
    "\n",
    "No_Of_Filters = 28\n",
    "Input_Shape = (28, 28, 1)\n",
    "Dense_Output_01 = 128\n",
    "Output = 10 \n",
    "\n",
    "# Convolutional Processing :\n",
    "model = Sequential()\n",
    "model.add(Conv2D(No_Of_Filters, kernel_size=(3,3), input_shape = Input_Shape))\n",
    "model.add(MaxPooling2D(pool_size=(2, 2)))\n",
    "model.add(Flatten())\n",
    "\n",
    "# Neural Networking :\n",
    "model.add(Dense(Dense_Output_01, activation=tf.nn.relu))\n",
    "model.add(Dropout(0.2))\n",
    "\n",
    "model.add(Dense(Output, activation=tf.nn.softmax))"
   ]
  },
  {
   "cell_type": "code",
   "execution_count": 85,
   "id": "d1efa369",
   "metadata": {},
   "outputs": [
    {
     "name": "stdout",
     "output_type": "stream",
     "text": [
      "Model: \"sequential_3\"\n",
      "_________________________________________________________________\n",
      " Layer (type)                Output Shape              Param #   \n",
      "=================================================================\n",
      " conv2d_3 (Conv2D)           (None, 26, 26, 28)        280       \n",
      "                                                                 \n",
      " max_pooling2d_3 (MaxPoolin  (None, 13, 13, 28)        0         \n",
      " g2D)                                                            \n",
      "                                                                 \n",
      " flatten_3 (Flatten)         (None, 4732)              0         \n",
      "                                                                 \n",
      " dense_6 (Dense)             (None, 128)               605824    \n",
      "                                                                 \n",
      " dropout_3 (Dropout)         (None, 128)               0         \n",
      "                                                                 \n",
      " dense_7 (Dense)             (None, 10)                1290      \n",
      "                                                                 \n",
      "=================================================================\n",
      "Total params: 607394 (2.32 MB)\n",
      "Trainable params: 607394 (2.32 MB)\n",
      "Non-trainable params: 0 (0.00 Byte)\n",
      "_________________________________________________________________\n"
     ]
    }
   ],
   "source": [
    "model.summary()"
   ]
  },
  {
   "cell_type": "code",
   "execution_count": 89,
   "id": "88b0f383",
   "metadata": {},
   "outputs": [],
   "source": [
    "# Compiling the model\n",
    "Compiled_Model = model.compile(optimizer=\"adam\", loss=\"sparse_categorical_crossentropy\", metrics = ['accuracy'])"
   ]
  },
  {
   "cell_type": "code",
   "execution_count": 91,
   "id": "1121731a",
   "metadata": {},
   "outputs": [
    {
     "name": "stdout",
     "output_type": "stream",
     "text": [
      "Epoch 1/10\n",
      "1875/1875 [==============================] - 25s 12ms/step - loss: 0.5567 - accuracy: 0.8325\n",
      "Epoch 2/10\n",
      "1875/1875 [==============================] - 23s 12ms/step - loss: 0.2110 - accuracy: 0.9367\n",
      "Epoch 3/10\n",
      "1875/1875 [==============================] - 23s 12ms/step - loss: 0.1543 - accuracy: 0.9542\n",
      "Epoch 4/10\n",
      "1875/1875 [==============================] - 23s 12ms/step - loss: 0.1272 - accuracy: 0.9613\n",
      "Epoch 5/10\n",
      "1875/1875 [==============================] - 23s 12ms/step - loss: 0.1098 - accuracy: 0.9670\n",
      "Epoch 6/10\n",
      "1875/1875 [==============================] - 23s 12ms/step - loss: 0.0976 - accuracy: 0.9700\n",
      "Epoch 7/10\n",
      "1875/1875 [==============================] - 24s 13ms/step - loss: 0.0884 - accuracy: 0.9729\n",
      "Epoch 8/10\n",
      "1875/1875 [==============================] - 25s 14ms/step - loss: 0.0798 - accuracy: 0.9752\n",
      "Epoch 9/10\n",
      "1875/1875 [==============================] - 23s 12ms/step - loss: 0.0750 - accuracy: 0.9765\n",
      "Epoch 10/10\n",
      "1875/1875 [==============================] - 25s 13ms/step - loss: 0.0680 - accuracy: 0.9779\n"
     ]
    }
   ],
   "source": [
    "Fitted_Model = model.fit(X_Train, Y_Train, epochs=10)"
   ]
  },
  {
   "cell_type": "code",
   "execution_count": 93,
   "id": "db2866b4",
   "metadata": {},
   "outputs": [
    {
     "name": "stdout",
     "output_type": "stream",
     "text": [
      "313/313 [==============================] - 2s 6ms/step - loss: 3355.1553 - accuracy: 0.9759\n"
     ]
    }
   ],
   "source": [
    "Evaluated_Model = model.evaluate(X_Test, Y_Test)"
   ]
  },
  {
   "cell_type": "code",
   "execution_count": 97,
   "id": "c837dfa0-27f3-471d-9d0c-0cbee29cc551",
   "metadata": {},
   "outputs": [
    {
     "data": {
      "text/plain": [
       "<matplotlib.image.AxesImage at 0x26eea843280>"
      ]
     },
     "execution_count": 97,
     "metadata": {},
     "output_type": "execute_result"
    },
    {
     "data": {
      "image/png": "[encoded data removed]",
      "text/plain": [
       "<Figure size 640x480 with 1 Axes>"
      ]
     },
     "metadata": {},
     "output_type": "display_data"
    }
   ],
   "source": [
    "# Confusion Matrix for Digit MNIST\n",
    "import matplotlib.pyplot as plt\n",
    "import seaborn as sns\n",
    "\n",
    "Image_Index = 1 # Whatever the Number can be given Within 10,000\n",
    "\n",
    "plt.imshow(X_Test[Image_Index].reshape(28, 28), cmap='Greys')"
   ]
  },
  {
   "cell_type": "code",
   "execution_count": 99,
   "id": "03b48daa",
   "metadata": {},
   "outputs": [
    {
     "name": "stdout",
     "output_type": "stream",
     "text": [
      "1/1 [==============================] - 0s 109ms/step\n",
      "Predicted Digit From X_Test Input Is (2)\n"
     ]
    }
   ],
   "source": [
    "Image_Input = X_Test[Image_Index].reshape(28,28)\n",
    "Predicted = model.predict(X_Test[Image_Index].reshape(1, 28, 28, 1))\n",
    "print(f\"Predicted Digit From X_Test Input Is ({Predicted.argmax()})\")"
   ]
  },
  {
   "cell_type": "code",
   "execution_count": null,
   "id": "edfceda6-150a-4a0b-8367-608e411f18f1",
   "metadata": {},
   "outputs": [],
   "source": []
  }
 ],
 "metadata": {
  "kernelspec": {
   "display_name": "Python (Deep_Learning)",
   "language": "python",
   "name": "deep_learning"
  },
  "language_info": {
   "codemirror_mode": {
    "name": "ipython",
    "version": 3
   },
   "file_extension": ".py",
   "mimetype": "text/x-python",
   "name": "python",
   "nbconvert_exporter": "python",
   "pygments_lexer": "ipython3",
   "version": "3.10.18"
  }
 },
 "nbformat": 4,
 "nbformat_minor": 5
}
